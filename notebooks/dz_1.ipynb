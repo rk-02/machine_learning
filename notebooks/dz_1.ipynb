{
 "cells": [
  {
   "cell_type": "code",
   "execution_count": 12,
   "metadata": {},
   "outputs": [
    {
     "name": "stdout",
     "output_type": "stream",
     "text": [
      "11\n",
      "1\n",
      "1\n",
      "2\n",
      "3\n",
      "5\n",
      "8\n"
     ]
    }
   ],
   "source": [
    "i1 = 1\n",
    "i2 = 1\n",
    "n = int(input())\n",
    "print(i1)\n",
    "print(i2)\n",
    "while True:\n",
    "    i1 = i1 + i2\n",
    "    if i1 <= n:\n",
    "        print(i1)\n",
    "    else:\n",
    "        break\n",
    "    i2 = i1 + i2\n",
    "    if i2 <= n:\n",
    "        print(i2)\n",
    "    else:\n",
    "        break\n",
    "    "
   ]
  },
  {
   "cell_type": "code",
   "execution_count": 15,
   "metadata": {},
   "outputs": [
    {
     "name": "stdout",
     "output_type": "stream",
     "text": [
      "3\n",
      "5\n",
      "21\n",
      "3\n",
      "5\n",
      "8\n",
      "13\n",
      "21\n"
     ]
    }
   ],
   "source": [
    "def print_fib(i1,i2):\n",
    "    n = int(input())\n",
    "    print(i1)\n",
    "    print(i2)\n",
    "    while True:\n",
    "        i1 = i1 + i2\n",
    "        if i1 <= n:\n",
    "            print(i1)\n",
    "        else:\n",
    "            break\n",
    "        i2 = i1 + i2\n",
    "        if i2 <= n:\n",
    "            print(i2)\n",
    "        else:\n",
    "            break\n",
    "i1 = int(input())\n",
    "i2 = int(input())\n",
    "print_fib(i1,i2)"
   ]
  }
 ],
 "metadata": {
  "kernelspec": {
   "display_name": "Python 3",
   "language": "python",
   "name": "python3"
  },
  "language_info": {
   "codemirror_mode": {
    "name": "ipython",
    "version": 3
   },
   "file_extension": ".py",
   "mimetype": "text/x-python",
   "name": "python",
   "nbconvert_exporter": "python",
   "pygments_lexer": "ipython3",
   "version": "3.8.3"
  }
 },
 "nbformat": 4,
 "nbformat_minor": 4
}
